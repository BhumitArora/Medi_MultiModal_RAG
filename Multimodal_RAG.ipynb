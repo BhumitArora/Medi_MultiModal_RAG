{
 "cells": [
  {
   "cell_type": "markdown",
   "metadata": {
    "id": "3sBKZv1VkUxr"
   },
   "source": [
    "### Install dependencies...."
   ]
  },
  {
   "cell_type": "code",
   "execution_count": 1,
   "metadata": {
    "colab": {
     "base_uri": "https://localhost:8080/"
    },
    "id": "srRq3m9nydQp",
    "outputId": "522fd158-0bc9-4996-9ea8-d154a33b9692"
   },
   "outputs": [
    {
     "name": "stdout",
     "output_type": "stream",
     "text": [
      "/content\n"
     ]
    }
   ],
   "source": [
    "!pwd"
   ]
  },
  {
   "cell_type": "code",
   "execution_count": 2,
   "metadata": {
    "colab": {
     "base_uri": "https://localhost:8080/"
    },
    "id": "oYHhsERDywRl",
    "outputId": "062d4f13-156d-4c99-cf3b-60a6d0a9f2dc"
   },
   "outputs": [
    {
     "name": "stdout",
     "output_type": "stream",
     "text": [
      "Mounted at /content/drive\n"
     ]
    }
   ],
   "source": [
    "from google.colab import drive\n",
    "drive.mount('/content/drive')"
   ]
  },
  {
   "cell_type": "code",
   "execution_count": null,
   "metadata": {
    "colab": {
     "base_uri": "https://localhost:8080/"
    },
    "collapsed": true,
    "id": "tQKKSQBZzVav",
    "outputId": "92447433-6633-4e86-c486-76b81fca767e"
   },
   "outputs": [
    {
     "name": "stdout",
     "output_type": "stream",
     "text": [
      "Collecting boto3 (from -r requirements.txt (line 2))\n",
      "  Downloading boto3-1.39.14-py3-none-any.whl.metadata (6.7 kB)\n",
      "Requirement already satisfied: langchain>=0.1.0 in /usr/local/lib/python3.11/dist-packages (from -r requirements.txt (line 3)) (0.3.26)\n",
      "Collecting PyMuPDF>=1.24.0 (from -r requirements.txt (line 6))\n",
      "  Downloading pymupdf-1.26.3-cp39-abi3-manylinux_2_28_x86_64.whl.metadata (3.4 kB)\n",
      "Collecting tabula-py>=2.9.0 (from -r requirements.txt (line 7))\n",
      "  Downloading tabula_py-2.10.0-py3-none-any.whl.metadata (7.6 kB)\n",
      "Collecting faiss-cpu>=1.8.0 (from -r requirements.txt (line 10))\n",
      "  Downloading faiss_cpu-1.11.0.post1-cp311-cp311-manylinux_2_27_x86_64.manylinux_2_28_x86_64.whl.metadata (5.0 kB)\n",
      "Requirement already satisfied: tqdm>=4.66.0 in /usr/local/lib/python3.11/dist-packages (from -r requirements.txt (line 13)) (4.67.1)\n",
      "Requirement already satisfied: requests>=2.31.0 in /usr/local/lib/python3.11/dist-packages (from -r requirements.txt (line 14)) (2.32.3)\n",
      "Collecting python-dotenv>=1.0.0 (from -r requirements.txt (line 15))\n",
      "  Downloading python_dotenv-1.1.1-py3-none-any.whl.metadata (24 kB)\n",
      "Collecting botocore<1.40.0,>=1.39.14 (from boto3->-r requirements.txt (line 2))\n",
      "  Downloading botocore-1.39.14-py3-none-any.whl.metadata (5.7 kB)\n",
      "Collecting jmespath<2.0.0,>=0.7.1 (from boto3->-r requirements.txt (line 2))\n",
      "  Downloading jmespath-1.0.1-py3-none-any.whl.metadata (7.6 kB)\n",
      "Collecting s3transfer<0.14.0,>=0.13.0 (from boto3->-r requirements.txt (line 2))\n",
      "  Downloading s3transfer-0.13.1-py3-none-any.whl.metadata (1.7 kB)\n",
      "Requirement already satisfied: langchain-core<1.0.0,>=0.3.66 in /usr/local/lib/python3.11/dist-packages (from langchain>=0.1.0->-r requirements.txt (line 3)) (0.3.71)\n",
      "Requirement already satisfied: langchain-text-splitters<1.0.0,>=0.3.8 in /usr/local/lib/python3.11/dist-packages (from langchain>=0.1.0->-r requirements.txt (line 3)) (0.3.8)\n",
      "Requirement already satisfied: langsmith>=0.1.17 in /usr/local/lib/python3.11/dist-packages (from langchain>=0.1.0->-r requirements.txt (line 3)) (0.4.8)\n",
      "Requirement already satisfied: pydantic<3.0.0,>=2.7.4 in /usr/local/lib/python3.11/dist-packages (from langchain>=0.1.0->-r requirements.txt (line 3)) (2.11.7)\n",
      "Requirement already satisfied: SQLAlchemy<3,>=1.4 in /usr/local/lib/python3.11/dist-packages (from langchain>=0.1.0->-r requirements.txt (line 3)) (2.0.41)\n",
      "Requirement already satisfied: PyYAML>=5.3 in /usr/local/lib/python3.11/dist-packages (from langchain>=0.1.0->-r requirements.txt (line 3)) (6.0.2)\n",
      "Requirement already satisfied: pandas>=0.25.3 in /usr/local/lib/python3.11/dist-packages (from tabula-py>=2.9.0->-r requirements.txt (line 7)) (2.2.2)\n",
      "Requirement already satisfied: numpy>1.24.4 in /usr/local/lib/python3.11/dist-packages (from tabula-py>=2.9.0->-r requirements.txt (line 7)) (2.0.2)\n",
      "Requirement already satisfied: distro in /usr/local/lib/python3.11/dist-packages (from tabula-py>=2.9.0->-r requirements.txt (line 7)) (1.9.0)\n",
      "Requirement already satisfied: packaging in /usr/local/lib/python3.11/dist-packages (from faiss-cpu>=1.8.0->-r requirements.txt (line 10)) (25.0)\n",
      "Requirement already satisfied: charset-normalizer<4,>=2 in /usr/local/lib/python3.11/dist-packages (from requests>=2.31.0->-r requirements.txt (line 14)) (3.4.2)\n",
      "Requirement already satisfied: idna<4,>=2.5 in /usr/local/lib/python3.11/dist-packages (from requests>=2.31.0->-r requirements.txt (line 14)) (3.10)\n",
      "Requirement already satisfied: urllib3<3,>=1.21.1 in /usr/local/lib/python3.11/dist-packages (from requests>=2.31.0->-r requirements.txt (line 14)) (2.5.0)\n",
      "Requirement already satisfied: certifi>=2017.4.17 in /usr/local/lib/python3.11/dist-packages (from requests>=2.31.0->-r requirements.txt (line 14)) (2025.7.14)\n",
      "Requirement already satisfied: python-dateutil<3.0.0,>=2.1 in /usr/local/lib/python3.11/dist-packages (from botocore<1.40.0,>=1.39.14->boto3->-r requirements.txt (line 2)) (2.9.0.post0)\n",
      "Requirement already satisfied: tenacity!=8.4.0,<10.0.0,>=8.1.0 in /usr/local/lib/python3.11/dist-packages (from langchain-core<1.0.0,>=0.3.66->langchain>=0.1.0->-r requirements.txt (line 3)) (8.5.0)\n",
      "Requirement already satisfied: jsonpatch<2.0,>=1.33 in /usr/local/lib/python3.11/dist-packages (from langchain-core<1.0.0,>=0.3.66->langchain>=0.1.0->-r requirements.txt (line 3)) (1.33)\n",
      "Requirement already satisfied: typing-extensions>=4.7 in /usr/local/lib/python3.11/dist-packages (from langchain-core<1.0.0,>=0.3.66->langchain>=0.1.0->-r requirements.txt (line 3)) (4.14.1)\n",
      "Requirement already satisfied: httpx<1,>=0.23.0 in /usr/local/lib/python3.11/dist-packages (from langsmith>=0.1.17->langchain>=0.1.0->-r requirements.txt (line 3)) (0.28.1)\n",
      "Requirement already satisfied: orjson<4.0.0,>=3.9.14 in /usr/local/lib/python3.11/dist-packages (from langsmith>=0.1.17->langchain>=0.1.0->-r requirements.txt (line 3)) (3.11.0)\n",
      "Requirement already satisfied: requests-toolbelt<2.0.0,>=1.0.0 in /usr/local/lib/python3.11/dist-packages (from langsmith>=0.1.17->langchain>=0.1.0->-r requirements.txt (line 3)) (1.0.0)\n",
      "Requirement already satisfied: zstandard<0.24.0,>=0.23.0 in /usr/local/lib/python3.11/dist-packages (from langsmith>=0.1.17->langchain>=0.1.0->-r requirements.txt (line 3)) (0.23.0)\n",
      "Requirement already satisfied: pytz>=2020.1 in /usr/local/lib/python3.11/dist-packages (from pandas>=0.25.3->tabula-py>=2.9.0->-r requirements.txt (line 7)) (2025.2)\n",
      "Requirement already satisfied: tzdata>=2022.7 in /usr/local/lib/python3.11/dist-packages (from pandas>=0.25.3->tabula-py>=2.9.0->-r requirements.txt (line 7)) (2025.2)\n",
      "Requirement already satisfied: annotated-types>=0.6.0 in /usr/local/lib/python3.11/dist-packages (from pydantic<3.0.0,>=2.7.4->langchain>=0.1.0->-r requirements.txt (line 3)) (0.7.0)\n",
      "Requirement already satisfied: pydantic-core==2.33.2 in /usr/local/lib/python3.11/dist-packages (from pydantic<3.0.0,>=2.7.4->langchain>=0.1.0->-r requirements.txt (line 3)) (2.33.2)\n",
      "Requirement already satisfied: typing-inspection>=0.4.0 in /usr/local/lib/python3.11/dist-packages (from pydantic<3.0.0,>=2.7.4->langchain>=0.1.0->-r requirements.txt (line 3)) (0.4.1)\n",
      "Requirement already satisfied: greenlet>=1 in /usr/local/lib/python3.11/dist-packages (from SQLAlchemy<3,>=1.4->langchain>=0.1.0->-r requirements.txt (line 3)) (3.2.3)\n",
      "Requirement already satisfied: anyio in /usr/local/lib/python3.11/dist-packages (from httpx<1,>=0.23.0->langsmith>=0.1.17->langchain>=0.1.0->-r requirements.txt (line 3)) (4.9.0)\n",
      "Requirement already satisfied: httpcore==1.* in /usr/local/lib/python3.11/dist-packages (from httpx<1,>=0.23.0->langsmith>=0.1.17->langchain>=0.1.0->-r requirements.txt (line 3)) (1.0.9)\n",
      "Requirement already satisfied: h11>=0.16 in /usr/local/lib/python3.11/dist-packages (from httpcore==1.*->httpx<1,>=0.23.0->langsmith>=0.1.17->langchain>=0.1.0->-r requirements.txt (line 3)) (0.16.0)\n",
      "Requirement already satisfied: jsonpointer>=1.9 in /usr/local/lib/python3.11/dist-packages (from jsonpatch<2.0,>=1.33->langchain-core<1.0.0,>=0.3.66->langchain>=0.1.0->-r requirements.txt (line 3)) (3.0.0)\n",
      "Requirement already satisfied: six>=1.5 in /usr/local/lib/python3.11/dist-packages (from python-dateutil<3.0.0,>=2.1->botocore<1.40.0,>=1.39.14->boto3->-r requirements.txt (line 2)) (1.17.0)\n",
      "Requirement already satisfied: sniffio>=1.1 in /usr/local/lib/python3.11/dist-packages (from anyio->httpx<1,>=0.23.0->langsmith>=0.1.17->langchain>=0.1.0->-r requirements.txt (line 3)) (1.3.1)\n",
      "Downloading boto3-1.39.14-py3-none-any.whl (139 kB)\n",
      "\u001b[2K   \u001b[90m━━━━━━━━━━━━━━━━━━━━━━━━━━━━━━━━━━━━━━━━\u001b[0m \u001b[32m139.9/139.9 kB\u001b[0m \u001b[31m9.2 MB/s\u001b[0m eta \u001b[36m0:00:00\u001b[0m\n",
      "\u001b[?25hDownloading pymupdf-1.26.3-cp39-abi3-manylinux_2_28_x86_64.whl (24.1 MB)\n",
      "\u001b[2K   \u001b[90m━━━━━━━━━━━━━━━━━━━━━━━━━━━━━━━━━━━━━━━━\u001b[0m \u001b[32m24.1/24.1 MB\u001b[0m \u001b[31m105.8 MB/s\u001b[0m eta \u001b[36m0:00:00\u001b[0m\n",
      "\u001b[?25hDownloading tabula_py-2.10.0-py3-none-any.whl (12.0 MB)\n",
      "\u001b[2K   \u001b[90m━━━━━━━━━━━━━━━━━━━━━━━━━━━━━━━━━━━━━━━━\u001b[0m \u001b[32m12.0/12.0 MB\u001b[0m \u001b[31m118.4 MB/s\u001b[0m eta \u001b[36m0:00:00\u001b[0m\n",
      "\u001b[?25hDownloading faiss_cpu-1.11.0.post1-cp311-cp311-manylinux_2_27_x86_64.manylinux_2_28_x86_64.whl (31.3 MB)\n",
      "\u001b[2K   \u001b[90m━━━━━━━━━━━━━━━━━━━━━━━━━━━━━━━━━━━━━━━━\u001b[0m \u001b[32m31.3/31.3 MB\u001b[0m \u001b[31m27.7 MB/s\u001b[0m eta \u001b[36m0:00:00\u001b[0m\n",
      "\u001b[?25hDownloading python_dotenv-1.1.1-py3-none-any.whl (20 kB)\n",
      "Downloading botocore-1.39.14-py3-none-any.whl (13.9 MB)\n",
      "\u001b[2K   \u001b[90m━━━━━━━━━━━━━━━━━━━━━━━━━━━━━━━━━━━━━━━━\u001b[0m \u001b[32m13.9/13.9 MB\u001b[0m \u001b[31m111.0 MB/s\u001b[0m eta \u001b[36m0:00:00\u001b[0m\n",
      "\u001b[?25hDownloading jmespath-1.0.1-py3-none-any.whl (20 kB)\n",
      "Downloading s3transfer-0.13.1-py3-none-any.whl (85 kB)\n",
      "\u001b[2K   \u001b[90m━━━━━━━━━━━━━━━━━━━━━━━━━━━━━━━━━━━━━━━━\u001b[0m \u001b[32m85.3/85.3 kB\u001b[0m \u001b[31m9.5 MB/s\u001b[0m eta \u001b[36m0:00:00\u001b[0m\n",
      "\u001b[?25hInstalling collected packages: python-dotenv, PyMuPDF, jmespath, faiss-cpu, botocore, tabula-py, s3transfer, boto3\n",
      "Successfully installed PyMuPDF-1.26.3 boto3-1.39.14 botocore-1.39.14 faiss-cpu-1.11.0.post1 jmespath-1.0.1 python-dotenv-1.1.1 s3transfer-0.13.1 tabula-py-2.10.0\n"
     ]
    }
   ],
   "source": [
    "!pip install -r requirements_01.txt"
   ]
  },
  {
   "cell_type": "code",
   "execution_count": 6,
   "metadata": {
    "id": "6lJZNcO6yRfs"
   },
   "outputs": [],
   "source": [
    "import boto3\n",
    "import tabula\n",
    "import faiss\n",
    "import json\n",
    "import base64\n",
    "import pymupdf\n",
    "import requests\n",
    "import os\n",
    "import logging\n",
    "import numpy as np\n",
    "import warnings\n",
    "from tqdm import tqdm\n",
    "from botocore.exceptions import ClientError\n",
    "from langchain_text_splitters import RecursiveCharacterTextSplitter\n",
    "from IPython import display\n",
    "\n",
    "\n",
    "logger = logging.getLogger(__name__)\n",
    "logger.setLevel(logging.ERROR)\n",
    "\n",
    "warnings.filterwarnings(\"ignore\")"
   ]
  },
  {
   "attachments": {},
   "cell_type": "markdown",
   "metadata": {},
   "source": [
    "### Data Loading"
   ]
  },
  {
   "cell_type": "code",
   "execution_count": 8,
   "metadata": {
    "colab": {
     "base_uri": "https://localhost:8080/"
    },
    "id": "7PY0EXI9yRft",
    "outputId": "386a983f-d49c-4ddd-b421-a0fce9aa971f"
   },
   "outputs": [
    {
     "name": "stdout",
     "output_type": "stream",
     "text": [
      "File downloaded successfully: data/Tuberculosis of the elbow joint.pdf\n"
     ]
    }
   ],
   "source": [
    "url = \"https://jmedicalcasereports.biomedcentral.com/counter/pdf/10.1186/s13256-025-05102-8.pdf?_gl=1*1pvoysr*_up*MQ..*_gs*MQ..&gclid=CjwKCAjw1ozEBhAdEiwAn9qbzX0vXIRxOZdvBmvUB-BQ1Ahy6bT3qPQX7qmweskDHcsjI6B0J9w-hxoCBNcQAvD_BwE&gbraid=0AAAAApIOJzq7IKzPIUG82kbMm9k0x1z3S\"\n",
    "\n",
    "# Set the filename and filepath\n",
    "filename = \"Tuberculosis of the elbow joint.pdf\"\n",
    "filepath = os.path.join(\"data\", filename)\n",
    "\n",
    "# Create the data directory if it doesn't exist\n",
    "os.makedirs(\"data\", exist_ok=True)\n",
    "\n",
    "# Download the file\n",
    "response = requests.get(url)\n",
    "if response.status_code == 200:\n",
    "    with open(filepath, 'wb') as file:\n",
    "        file.write(response.content)\n",
    "    print(f\"File downloaded successfully: {filepath}\")\n",
    "else:\n",
    "    print(f\"Failed to download the file. Status code: {response.status_code}\")"
   ]
  },
  {
   "cell_type": "code",
   "execution_count": 9,
   "metadata": {
    "id": "zpkwikpzyRft"
   },
   "outputs": [],
   "source": [
    "# Display the PDF file\n",
    "# display.IFrame(filepath, width=1000, height=600)"
   ]
  },
  {
   "attachments": {},
   "cell_type": "markdown",
   "metadata": {
    "id": "l5aGlMpfyRfu"
   },
   "source": [
    "### Data Extraction"
   ]
  },
  {
   "cell_type": "code",
   "execution_count": 10,
   "metadata": {
    "id": "zYzZ_D5CyRfu"
   },
   "outputs": [],
   "source": [
    "# Create the directories\n",
    "def create_directories(base_dir):\n",
    "    directories = [\"images\", \"text\", \"tables\", \"page_images\"]\n",
    "    for dir in directories:\n",
    "        os.makedirs(os.path.join(base_dir, dir), exist_ok=True)\n",
    "\n",
    "# Process tables\n",
    "def process_tables(doc, page_num, base_dir, items):\n",
    "    try:\n",
    "        tables = tabula.read_pdf(filepath, pages=page_num + 1, multiple_tables=True)\n",
    "        if not tables:\n",
    "            return\n",
    "        for table_idx, table in enumerate(tables):\n",
    "            table_text = \"\\n\".join([\" | \".join(map(str, row)) for row in table.values])\n",
    "            table_file_name = f\"{base_dir}/tables/{os.path.basename(filepath)}_table_{page_num}_{table_idx}.txt\"\n",
    "            with open(table_file_name, 'w') as f:\n",
    "                f.write(table_text)\n",
    "            items.append({\"page\": page_num, \"type\": \"table\", \"text\": table_text, \"path\": table_file_name})\n",
    "    except Exception as e:\n",
    "        print(f\"Error extracting tables from page {page_num}: {str(e)}\")\n",
    "\n",
    "# Process text chunks\n",
    "def process_text_chunks(text, text_splitter, page_num, base_dir, items):\n",
    "    chunks = text_splitter.split_text(text)\n",
    "    for i, chunk in enumerate(chunks):\n",
    "        text_file_name = f\"{base_dir}/text/{os.path.basename(filepath)}_text_{page_num}_{i}.txt\"\n",
    "        with open(text_file_name, 'w') as f:\n",
    "            f.write(chunk)\n",
    "        items.append({\"page\": page_num, \"type\": \"text\", \"text\": chunk, \"path\": text_file_name})\n",
    "\n",
    "\n",
    "def process_images(page, page_num, base_dir, items):\n",
    "    images = page.get_images()\n",
    "    for idx, image in enumerate(images):\n",
    "        xref = image[0]\n",
    "        pix = pymupdf.Pixmap(doc, xref)\n",
    "        image_name = f\"{base_dir}/images/{os.path.basename(filepath)}_image_{page_num}_{idx}_{xref}.png\"\n",
    "        pix.save(image_name)\n",
    "        with open(image_name, 'rb') as f:\n",
    "            encoded_image = base64.b64encode(f.read()).decode('utf8')\n",
    "        items.append({\"page\": page_num, \"type\": \"image\", \"path\": image_name, \"image\": encoded_image})\n",
    "\n",
    "# Process page images\n",
    "def process_page_images(page, page_num, base_dir, items):\n",
    "    pix = page.get_pixmap()\n",
    "    page_path = os.path.join(base_dir, f\"page_images/page_{page_num:03d}.png\")\n",
    "    pix.save(page_path)\n",
    "    with open(page_path, 'rb') as f:\n",
    "        page_image = base64.b64encode(f.read()).decode('utf8')\n",
    "    items.append({\"page\": page_num, \"type\": \"page\", \"path\": page_path, \"image\": page_image})"
   ]
  },
  {
   "cell_type": "code",
   "execution_count": 12,
   "metadata": {
    "colab": {
     "base_uri": "https://localhost:8080/"
    },
    "id": "ThdS4ubmyRfu",
    "outputId": "578c1def-9742-4d1a-b358-e399ba4788b2"
   },
   "outputs": [
    {
     "name": "stderr",
     "output_type": "stream",
     "text": [
      "\r\n",
      "Processing PDF pages:   0%|          | 0/9 [00:00<?, ?it/s]WARNING:tabula.backend:Failed to import jpype dependencies. Fallback to subprocess.\n",
      "WARNING:tabula.backend:No module named 'jpype'\n",
      "Processing PDF pages: 100%|██████████| 9/9 [00:30<00:00,  3.36s/it]\n"
     ]
    }
   ],
   "source": [
    "doc = pymupdf.open(filepath)\n",
    "num_pages = len(doc)\n",
    "base_dir = \"data\"\n",
    "\n",
    "# Creating the directories\n",
    "create_directories(base_dir)\n",
    "text_splitter = RecursiveCharacterTextSplitter(chunk_size=700, chunk_overlap=200, length_function=len)\n",
    "items = []\n",
    "\n",
    "# Process each page of the PDF\n",
    "for page_num in tqdm(range(num_pages), desc=\"Processing PDF pages\"):\n",
    "    page = doc[page_num]\n",
    "    text = page.get_text()\n",
    "    process_tables(doc, page_num, base_dir, items)\n",
    "    process_text_chunks(text, text_splitter, page_num, base_dir, items)\n",
    "    process_images(page, page_num, base_dir, items)\n",
    "    process_page_images(page, page_num, base_dir, items)"
   ]
  },
  {
   "cell_type": "code",
   "execution_count": 13,
   "metadata": {
    "colab": {
     "base_uri": "https://localhost:8080/"
    },
    "id": "B-ymNbqVyRfu",
    "outputId": "ea968129-201e-4bdd-c8b9-1e823e46c30b"
   },
   "outputs": [
    {
     "data": {
      "text/plain": [
       "{'page': 0,\n",
       " 'type': 'text',\n",
       " 'text': 'Manske\\xa0et\\xa0al. Journal of Medical Case Reports           (2025) 19:88  \\nhttps://doi.org/10.1186/s13256-025-05102-8\\nCASE REPORT\\nOpen Access\\n© The Author(s) 2025. Open Access This article is licensed under a Creative Commons Attribution 4.0 International License, which \\npermits use, sharing, adaptation, distribution and reproduction in any medium or format, as long as you give appropriate credit to the \\noriginal author(s) and the source, provide a link to the Creative Commons licence, and indicate if changes were made. The images or \\nother third party material in this article are included in the article’s Creative Commons licence, unless indicated otherwise in a credit line',\n",
       " 'path': 'data/text/Tuberculosis of the elbow joint.pdf_text_0_0.txt'}"
      ]
     },
     "execution_count": 13,
     "metadata": {},
     "output_type": "execute_result"
    }
   ],
   "source": [
    "# Looking at the first text item\n",
    "[i for i in items if i['type'] == 'text'][0]"
   ]
  },
  {
   "cell_type": "code",
   "execution_count": 14,
   "metadata": {
    "colab": {
     "base_uri": "https://localhost:8080/"
    },
    "id": "Xuph2pigyRfv",
    "outputId": "cb2bf30c-ecdd-46f8-a54f-cec9fd73a421",
    "scrolled": true
   },
   "outputs": [
    {
     "data": {
      "text/plain": [
       "{'page': 3,\n",
       " 'type': 'table',\n",
       " 'text': 'tively, only one was found to be populated with staphylo- | joint effusion. Owing to the extremely slow growth of the\\ncoccus epidermidis (1/3). In the first sample collection, no | bacteria and the extensive resistance testing, we did not\\nmycobacteria were detected. Following the recommen- | receive the final resistogram (Fig. 5) until 4 months after\\ndation of our colleagues from the department of infecti- | initial presentation.\\nology, we did not start tuberculostatic therapy owing to | Thereafter, an interdisciplinary case discussion took\\nmissing results from the histopathological and microbio- | place. The idea of another surgical treatment to reduce\\nlogical examinations. The following days were unevent- | the bacterial load was depraved. In consideration of the\\nful. The inserted drainage was removed when the exudate | finally available resistogram and a joint effusion that was\\nregressed. The inflammatory parameters normalized. The | not very pronounced on imaging, it was decided to opt\\nwound was always free of irritation. Further symptoms | for a solely drug-based therapy. Prior to antibiotic treat-\\nwere not reported by the patient. Then, 5 days later, a sec- | ment, we conducted routine diagnostic testing, as rec-\\nond-look surgery was performed with further microbial- | ommended by the German S2k guideline on treatment\\nspecimen collection. The antibiotic therapy was adapted | of tuberculosis in adults [10]. This included a chest X-ray\\nto clindamycin 600 mg three times per day, according to | to detect specific pulmonary changes (already done),\\nthe available resistogram of the detected staphylococcus | an electrocardiogram (ECG), as well as an ophthalmo-\\nepidermidis. | logic consultation. Table 1 gives an overview of possible\\nWhen the wound was dry and without irritation, the | findings.\\npatient was discharged 2 days after the second-look sur- | Subsequently, 5 months after the initial presenta-\\ngery, with immobilization. Wearing the cast until com- | tion, we began the tuberculostatic therapy (bedaquiline,\\npleted wound healing, with daily exercises to maintain | levofloxacin, linezolid, clofazimine, ethambutol, and\\nmobility, was advised. The antibiotic therapy was recom- | pyrazinamide) in accordance with the resistogram under\\nmended to be continued for an additional 5 days. Fur- | frequent laboratory testing of electrolyte levels and renal\\nthermore, we scheduled regular appointments with our | and hepatic parameters.\\ninfectious disease outpatient clinic. The results of the | The patient was closely monitored with repeated fol-\\nhistopathological and microbiological examinations were | low-up examinations (laboratory, ECG, ophthalmologic,\\nstill pending at this time. | and imaging controls). During the MRI control, 25 weeks\\nThe verdict of elbow joint TB was first confirmed his- | after starting the antibiotical therapy, a regression of the\\ntopathologically (the species-specific polymerase chain | synovialitis was recorded. The tuberculostatic therapy\\nreaction (PCR) (IS6110) for the detection of M. tuber- | was well tolerated by the patient. With resolution of the\\nculosis, M. bovis, and M. bovis Bacillus Calmette–Gué- | synovial inflammatory reaction, the clinical findings also\\nrin (BCG) proved positive [123-bp amplification]) in the | improved. The patient regained a nearly unimpaired\\nsecond sample collected during the second-look surgery. | range of motion with flexion/extension of 130°/5°/0° and\\nThen, 6 weeks after the culture incubation of the tissue | pronation/supination of 90°/0°/90° (Table 2). The swelling\\nsamples taken intraoperatively, microbiological evidence | and tenderness on palpation over the left elbow resolved\\nof M. tuberculosis was obtained. Owing to the still-pend- | during the treatment.\\ning resistogram, there was no change in therapy. In the | After a slightly longer than 7 months of therapy, the\\nfollowing weeks, the patient was not available for medical | antibiotic regimen was changed to bedaquiline, levoflox-\\ntherapy several times owing to personal reasons, hence | acin, ethambutol, and pyrazinamide.\\ndelaying the clinical follow-up. Finally, 3 months after the | From the beginning of June 2021, the patient experi-\\noperative treatment, the patient presented for another | enced adverse drug reactions in the form of numbness\\nclinical examination on his own initiative. At this point, | and paresthesia (burning sensation) in the region of\\nwe found a recurrence of the swelling of the elbow and a | both forefeet and the soles of the feet. Accordingly, the\\nnew extension deficit of 30°. The scar was dry and nonir- | therapy with ethambutol was paused and switched to clo-\\nritated and the laboratory values displayed no abnormali- | fazimine. With this therapy, the numbness and burning',\n",
       " 'path': 'data/tables/Tuberculosis of the elbow joint.pdf_table_3_0.txt'}"
      ]
     },
     "execution_count": 14,
     "metadata": {},
     "output_type": "execute_result"
    }
   ],
   "source": [
    "# Looking at the first table item\n",
    "[i for i in items if i['type'] == 'table'][0]"
   ]
  },
  {
   "cell_type": "code",
   "execution_count": 15,
   "metadata": {
    "colab": {
     "base_uri": "https://localhost:8080/"
    },
    "id": "3MeBARfTyRfv",
    "outputId": "e9ad90db-af03-444a-877b-930216f31292",
    "scrolled": true
   },
   "outputs": [
    {
     "data": {
      "text/plain": [
       "{'page': 0,\n",
       " 'type': 'image',\n",
       " 'path': 'data/images/Tuberculosis of the elbow joint.pdf_image_0_0_505.png',\n",
       " 'image': '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'}"
      ]
     },
     "execution_count": 15,
     "metadata": {},
     "output_type": "execute_result"
    }
   ],
   "source": [
    "# Looking at the first image item\n",
    "[i for i in items if i['type'] == 'image'][0]"
   ]
  },
  {
   "attachments": {},
   "cell_type": "markdown",
   "metadata": {
    "id": "5erCTwVDyRfv"
   },
   "source": [
    "### Generating Multimodal Embeddings"
   ]
  },
  {
   "cell_type": "code",
   "execution_count": 16,
   "metadata": {
    "colab": {
     "base_uri": "https://localhost:8080/",
     "height": 342,
     "referenced_widgets": [
      "c7834b0233ff4366bc186c10c5c1aed9",
      "67c044c5db824874a25e5da24a5e32d5",
      "df34658b26ff47aa825a3b47bf80a6ba",
      "1372f019122e4ac0928720db69655685",
      "332aa7e07d77435abd12db405755c04c",
      "e2b77976dd764715955d0375893f2b3a",
      "dc790a2c656d40ff9f4f8d11a5445c75",
      "fbefbbb9033042cebb607c5d4bd47516",
      "d277c3aabeb348c6ae205ae6e4b51670",
      "56ba67ff712f47579019f250950d2262",
      "2a34a0dc905f4b348a92c2fe66bf0260",
      "e7120b731b9a45918d864b968dc11cc0",
      "62347fdca2814412a2e707cfaaa1a435",
      "739990292dfd45d89f99a24ffc55cad5",
      "5bd21f57e79f4a019e336170e08b7e65",
      "439c284a117e4b75810367c585d555a3",
      "bd8ca69b00b64f7fa3925c110e0c0957",
      "6505cd369b184099887ca33f90bc9ade",
      "37dbbdab32a84478a365da1393ddd7bd",
      "c8cc5c5a756a40e48dee2b8a1fff4670",
      "363f6fd00dd447418123165de38e8dda",
      "a723a31c765e4831ad9ac652ed56504e",
      "a742c327c6684502b6e4cbdc9a65cfbe",
      "cb607a89cedd4014b3c2cf0e2a6ff7bb",
      "8ef42aab0f1e41b398d510c50f11c924",
      "6bbf8320867744cdbf6c5a9c02b0b02f",
      "9397086576f24a7e905e365b4f080ce8",
      "7396af35bfbc4aa4932910196032c1ab",
      "bc731814a21b4a0590da00bfba41a16b",
      "099c7160d1d549c5a03685691fc6cbb9",
      "abe7222f43ca43cb841314c688c03175",
      "947715278ce44f4cb43338b283b76b84",
      "fd05df35952a4a708bc1cfec80bf04eb",
      "f97b7a0964804dc395efc374aad31acc",
      "25710cdaf5c54648a71fd0cc0c18a4c1",
      "4527f6046eeb44938342deb233e98c54",
      "c1bce88435ac4d7bbc8c0459e53ef882",
      "94824c65d5cb4232a6b2f34654155e0e",
      "7cc0171884a74c11b418f14703f3ee87",
      "50b156650be5427c8e093338d62e811f",
      "5c6729eefa184fc8a85096e8c85f0d86",
      "91f8c088d3ff4e0b9cebdf0aa116be09",
      "ff653b17e6d8410d8376536824a99020",
      "22d0de9d59ba45e29bca20e71db3ab59",
      "d10f475685a84fc1af1be8b40afe62ad",
      "d4f33d8661b048139c0fb15eb648cc23",
      "76d0f2f1be374267b84411996fc1c16c",
      "a61c3229506f4bef8eb993ac5d7d0e75",
      "d0b73ecb62734392a67047c98424568f",
      "bbe8e9302e6e48c0b02d262548ecc6f5",
      "b9354c3f48d9414d8a74b6909f2acabe",
      "a252d10a9aba495b8cc8292a0fe0db71",
      "686ef6ab590544898af2aa03744f203b",
      "65ef289624154e54b278c54e06ec7518",
      "37a70c597a454686a4ed96540efa4a54",
      "0e7ef6c7e6e340659618e8c34204d952",
      "a4ba4ef2a94b4dcc8a18c5afd2d770b9",
      "a45a090096c848afb8963a358199a143",
      "4ed11f12630a46c882c5ff375df610da",
      "c7a6fcd9c82340f1b37b185a8a91540a",
      "cf6fcb713c7842548fc89233a867efe1",
      "6a0d0cb5df264c9ba77d5d2705a42e2e",
      "ed4852ccda0b4f7db65b04ba8da68f30",
      "edfab8a468ac423bb1808b7efd6643d3",
      "86a9b14e228745f3aa60464d909bcd10",
      "fd3988b7fb6c41228d5a2c87d5623b8f",
      "984f75d8db5a40509d8bd266fc3f3e92",
      "4bbbb59eb5e94cd9b2534dda81f03665",
      "a6dd604acd374e65b03bfe677cf03f01",
      "7dec9f7b91c7427793c3fe8b0003ec09",
      "9bd54b842c964b498a255cbbb029b5c8",
      "0bff69e0ee304198ba024dff23bab618",
      "77e7ff38625848c2b79de9831cc85c09",
      "9785176a01774e7aa5dd0c73c0e4bd27",
      "d572f3db1a9c4704b05c2c665d63669c",
      "73c3a352085e4df9b93bdbd3327eed4c",
      "9419f20dd74841538c59d3b8a3c4e452",
      "a98fe77b8ad54895b3c14fcb88d9c30d",
      "b2599d0cbd6e488b9d564f622cfc68d0",
      "4ee890f5769949859c06867aa780636e",
      "f41a249b5eec43dabecc2bcc005e68c7",
      "a53e5a2ca43341bca8c3eb6a35ede23b",
      "c15bf022db214585a0e6639fc05ab3d9",
      "c9f51217854d41ec94d492862dd65d0d",
      "209f78873d184aceaa64e9f2284f0715",
      "8c8402e970d84c128b3f71116b669298",
      "51f32b19f8914ff7b4c050f99e0e768f",
      "837d93aec696410a86331fe9e86aa95c",
      "75dedc12394e49feab78dc7f68a7d1e7",
      "9ed631b8be5648348ac1a5ad472739d8",
      "211c7549b7d247a9bfbf3ed734ffe9a1",
      "c2f74ac822a24eedb7c85824db4a7c08",
      "0e0d53fd0d3c409ca6fb9ddece32be35",
      "f64500c12add4937824b3e241ead2f8b",
      "4a0d5a7942ee43508d2d8eb11bbbd9e7",
      "523a5601fda34140bf38b45ffb66a931",
      "8b54e047b89b4cdba00a410c386de3b2",
      "5f46d4e95bc14733b2acb42bfc145d7a",
      "066aa2c130f14dabbac9794f07ebf71e"
     ]
    },
    "id": "NVF0LKEQTick",
    "outputId": "d900a34b-8b9e-411b-c80d-aaea0cce2aad"
   },
   "outputs": [
    {
     "data": {
      "application/vnd.jupyter.widget-view+json": {
       "model_id": "c7834b0233ff4366bc186c10c5c1aed9",
       "version_major": 2,
       "version_minor": 0
      },
      "text/plain": [
       "config.json: 0.00B [00:00, ?B/s]"
      ]
     },
     "metadata": {},
     "output_type": "display_data"
    },
    {
     "data": {
      "application/vnd.jupyter.widget-view+json": {
       "model_id": "e7120b731b9a45918d864b968dc11cc0",
       "version_major": 2,
       "version_minor": 0
      },
      "text/plain": [
       "pytorch_model.bin:   0%|          | 0.00/605M [00:00<?, ?B/s]"
      ]
     },
     "metadata": {},
     "output_type": "display_data"
    },
    {
     "data": {
      "application/vnd.jupyter.widget-view+json": {
       "model_id": "a742c327c6684502b6e4cbdc9a65cfbe",
       "version_major": 2,
       "version_minor": 0
      },
      "text/plain": [
       "model.safetensors:   0%|          | 0.00/605M [00:00<?, ?B/s]"
      ]
     },
     "metadata": {},
     "output_type": "display_data"
    },
    {
     "name": "stderr",
     "output_type": "stream",
     "text": [
      "Using a slow image processor as `use_fast` is unset and a slow processor was saved with this model. `use_fast=True` will be the default behavior in v4.52, even if the model was saved with a slow processor. This will result in minor differences in outputs. You'll still be able to use a slow processor with `use_fast=False`.\n"
     ]
    },
    {
     "data": {
      "application/vnd.jupyter.widget-view+json": {
       "model_id": "f97b7a0964804dc395efc374aad31acc",
       "version_major": 2,
       "version_minor": 0
      },
      "text/plain": [
       "preprocessor_config.json:   0%|          | 0.00/316 [00:00<?, ?B/s]"
      ]
     },
     "metadata": {},
     "output_type": "display_data"
    },
    {
     "data": {
      "application/vnd.jupyter.widget-view+json": {
       "model_id": "d10f475685a84fc1af1be8b40afe62ad",
       "version_major": 2,
       "version_minor": 0
      },
      "text/plain": [
       "tokenizer_config.json:   0%|          | 0.00/592 [00:00<?, ?B/s]"
      ]
     },
     "metadata": {},
     "output_type": "display_data"
    },
    {
     "data": {
      "application/vnd.jupyter.widget-view+json": {
       "model_id": "0e7ef6c7e6e340659618e8c34204d952",
       "version_major": 2,
       "version_minor": 0
      },
      "text/plain": [
       "vocab.json: 0.00B [00:00, ?B/s]"
      ]
     },
     "metadata": {},
     "output_type": "display_data"
    },
    {
     "data": {
      "application/vnd.jupyter.widget-view+json": {
       "model_id": "984f75d8db5a40509d8bd266fc3f3e92",
       "version_major": 2,
       "version_minor": 0
      },
      "text/plain": [
       "merges.txt: 0.00B [00:00, ?B/s]"
      ]
     },
     "metadata": {},
     "output_type": "display_data"
    },
    {
     "data": {
      "application/vnd.jupyter.widget-view+json": {
       "model_id": "a98fe77b8ad54895b3c14fcb88d9c30d",
       "version_major": 2,
       "version_minor": 0
      },
      "text/plain": [
       "tokenizer.json: 0.00B [00:00, ?B/s]"
      ]
     },
     "metadata": {},
     "output_type": "display_data"
    },
    {
     "data": {
      "application/vnd.jupyter.widget-view+json": {
       "model_id": "75dedc12394e49feab78dc7f68a7d1e7",
       "version_major": 2,
       "version_minor": 0
      },
      "text/plain": [
       "special_tokens_map.json:   0%|          | 0.00/389 [00:00<?, ?B/s]"
      ]
     },
     "metadata": {},
     "output_type": "display_data"
    }
   ],
   "source": [
    "import torch\n",
    "from transformers import CLIPProcessor, CLIPModel\n",
    "from PIL import Image\n",
    "\n",
    "device = \"cuda\" if torch.cuda.is_available() else \"cpu\"\n",
    "\n",
    "model = CLIPModel.from_pretrained(\"openai/clip-vit-base-patch32\").to(device)\n",
    "processor = CLIPProcessor.from_pretrained(\"openai/clip-vit-base-patch32\")\n"
   ]
  },
  {
   "cell_type": "code",
   "execution_count": 17,
   "metadata": {
    "id": "wJdvRWZaUY_T"
   },
   "outputs": [],
   "source": [
    "def get_image_embedding(image_path):\n",
    "    image = Image.open(image_path).convert(\"RGB\")\n",
    "    inputs = processor(images=image, return_tensors=\"pt\").to(device)\n",
    "    with torch.no_grad():\n",
    "        return model.get_image_features(**inputs).cpu()\n",
    "\n",
    "def get_text_embedding(text_str):\n",
    "    inputs = processor(text=[text_str], return_tensors=\"pt\", truncation=True).to(device)\n",
    "    with torch.no_grad():\n",
    "        return model.get_text_features(**inputs).cpu()\n"
   ]
  },
  {
   "cell_type": "code",
   "execution_count": 18,
   "metadata": {
    "colab": {
     "base_uri": "https://localhost:8080/",
     "height": 468
    },
    "id": "Ky2SWAP7VX58",
    "outputId": "a6edc67b-e7c9-4fbd-aede-9f0177e42982"
   },
   "outputs": [
    {
     "name": "stderr",
     "output_type": "stream",
     "text": [
      "\n",
      "Images:   0%|          | 0/8 [00:00<?, ?it/s]\u001b[A\n",
      "Images:  12%|█▎        | 1/8 [00:01<00:07,  1.04s/it]\u001b[A\n",
      "Images:  38%|███▊      | 3/8 [00:01<00:01,  3.18it/s]\u001b[A\n",
      "Images:  62%|██████▎   | 5/8 [00:01<00:00,  3.40it/s]\u001b[A\n",
      "Images:  75%|███████▌  | 6/8 [00:01<00:00,  3.64it/s]\u001b[A\n",
      "Images: 100%|██████████| 8/8 [00:02<00:00,  3.79it/s]\n",
      "\n",
      "Text Files:   0%|          | 0/72 [00:00<?, ?it/s]\u001b[A\n",
      "Text Files:   1%|▏         | 1/72 [00:00<00:21,  3.23it/s]\u001b[A\n",
      "Text Files:   3%|▎         | 2/72 [00:00<00:21,  3.18it/s]\u001b[A\n",
      "Text Files:   4%|▍         | 3/72 [00:00<00:17,  3.95it/s]\u001b[A\n",
      "Text Files:   7%|▋         | 5/72 [00:00<00:09,  7.12it/s]\u001b[A\n",
      "Text Files:  11%|█         | 8/72 [00:01<00:05, 11.81it/s]\u001b[A\n",
      "Text Files:  17%|█▋        | 12/72 [00:01<00:03, 15.59it/s]\u001b[A\n",
      "Text Files:  19%|█▉        | 14/72 [00:01<00:03, 14.93it/s]\u001b[A\n",
      "Text Files:  22%|██▏       | 16/72 [00:01<00:05, 11.16it/s]\u001b[A\n",
      "Text Files:  29%|██▉       | 21/72 [00:01<00:02, 17.89it/s]\u001b[A\n",
      "Text Files:  36%|███▌      | 26/72 [00:01<00:01, 24.31it/s]\u001b[A\n",
      "Text Files:  43%|████▎     | 31/72 [00:01<00:01, 29.98it/s]\u001b[A\n",
      "Text Files:  53%|█████▎    | 38/72 [00:02<00:00, 38.81it/s]\u001b[A\n",
      "Text Files:  64%|██████▍   | 46/72 [00:02<00:00, 49.14it/s]\u001b[A\n",
      "Text Files:  75%|███████▌  | 54/72 [00:02<00:00, 56.90it/s]\u001b[A\n",
      "Text Files:  85%|████████▍ | 61/72 [00:02<00:00, 59.50it/s]\u001b[A\n",
      "Text Files: 100%|██████████| 72/72 [00:02<00:00, 25.65it/s]\n",
      "Tables: 100%|██████████| 6/6 [00:00<00:00, 70.82it/s]\n"
     ]
    }
   ],
   "source": [
    "image_dir = \"./data/images\"\n",
    "text_dir = \"./data/text\"\n",
    "table_dir = \"./data/tables\"\n",
    "\n",
    "image_embeddings = {}\n",
    "text_embeddings = {}\n",
    "table_embeddings = {}\n",
    "\n",
    "# Process images\n",
    "for file in tqdm(os.listdir(image_dir), desc=\"Images\"):\n",
    "    if file.endswith(\".png\"):\n",
    "        path = os.path.join(image_dir, file)\n",
    "        embedding = get_image_embedding(path)\n",
    "        image_embeddings[file] = embedding\n",
    "\n",
    "# Process regular texts\n",
    "for file in tqdm(os.listdir(text_dir), desc=\"Text Files\"):\n",
    "    if file.endswith(\".txt\"):\n",
    "        path = os.path.join(text_dir, file)\n",
    "        with open(path, \"r\", encoding=\"utf-8\") as f:\n",
    "            content = f.read()\n",
    "        embedding = get_text_embedding(content)\n",
    "        text_embeddings[file] = embedding\n",
    "\n",
    "# Process tables (assuming plain-text tables like CSV-style rows)\n",
    "for file in tqdm(os.listdir(table_dir), desc=\"Tables\"):\n",
    "    if file.endswith(\".txt\"):\n",
    "        path = os.path.join(table_dir, file)\n",
    "        with open(path, \"r\", encoding=\"utf-8\") as f:\n",
    "            content = f.read()\n",
    "        embedding = get_text_embedding(content)\n",
    "        table_embeddings[file] = embedding\n"
   ]
  },
  {
   "cell_type": "code",
   "execution_count": 19,
   "metadata": {
    "colab": {
     "base_uri": "https://localhost:8080/"
    },
    "id": "MbIux0Z6VX3v",
    "outputId": "46acd32b-a164-4d94-fd9b-b89c01b15fde"
   },
   "outputs": [
    {
     "name": "stdout",
     "output_type": "stream",
     "text": [
      "Image embedding vector size: torch.Size([1, 512])\n",
      "Text embedding vector size: torch.Size([1, 512])\n",
      "Table embedding vector size: torch.Size([1, 512])\n"
     ]
    }
   ],
   "source": [
    "# Check one embedding from each dictionary (if not empty)\n",
    "\n",
    "if image_embeddings:\n",
    "    first_image_embedding = next(iter(image_embeddings.values()))\n",
    "    print(\"Image embedding vector size:\", first_image_embedding.shape)\n",
    "\n",
    "if text_embeddings:\n",
    "    first_text_embedding = next(iter(text_embeddings.values()))\n",
    "    print(\"Text embedding vector size:\", first_text_embedding.shape)\n",
    "\n",
    "if table_embeddings:\n",
    "    first_table_embedding = next(iter(table_embeddings.values()))\n",
    "    print(\"Table embedding vector size:\", first_table_embedding.shape)\n"
   ]
  },
  {
   "attachments": {},
   "cell_type": "markdown",
   "metadata": {
    "id": "ISRBFOaDyRfv"
   },
   "source": [
    "### Creating VectorDB"
   ]
  },
  {
   "cell_type": "code",
   "execution_count": 20,
   "metadata": {
    "colab": {
     "base_uri": "https://localhost:8080/"
    },
    "id": "iaBN1GXTVX0h",
    "outputId": "7657da95-4ec2-48c0-bcd9-16c47594fa89"
   },
   "outputs": [
    {
     "name": "stdout",
     "output_type": "stream",
     "text": [
      "Final stacked shape: (86, 512)\n",
      "FAISS index created with 86 vectors.\n"
     ]
    }
   ],
   "source": [
    "import torch\n",
    "import numpy as np\n",
    "import faiss\n",
    "\n",
    "# Helper function to convert dict of tensors to list of numpy arrays\n",
    "def convert_embeddings_to_numpy(embedding_dict):\n",
    "    return [embedding.squeeze(0).cpu().numpy() for embedding in embedding_dict.values()]\n",
    "\n",
    "# Convert and merge all embeddings\n",
    "image_vecs = convert_embeddings_to_numpy(image_embeddings)\n",
    "text_vecs = convert_embeddings_to_numpy(text_embeddings)\n",
    "table_vecs = convert_embeddings_to_numpy(table_embeddings)\n",
    "\n",
    "# Combine all into a single array\n",
    "all_embeddings_np = np.array(image_vecs + text_vecs + table_vecs, dtype=np.float32)\n",
    "\n",
    "# Confirm shape\n",
    "print(\"Final stacked shape:\", all_embeddings_np.shape)  # Should be (N, 512)\n",
    "\n",
    "# Create and populate FAISS index\n",
    "index = faiss.IndexFlatL2(512)\n",
    "index.add(all_embeddings_np)\n",
    "\n",
    "print(\"FAISS index created with\", index.ntotal, \"vectors.\")\n"
   ]
  },
  {
   "cell_type": "code",
   "execution_count": 23,
   "metadata": {
    "id": "dJDA_EQbyRfw"
   },
   "outputs": [],
   "source": [
    "import google.generativeai as genai\n",
    "from PIL import Image\n",
    "import io\n",
    "\n",
    "import os\n",
    "from google.colab import userdata\n",
    "\n",
    "api_key = userdata.get(\"GOOGLE_API_KEY\")\n",
    "if not api_key:\n",
    "    raise ValueError(\"API key not found in Colab secrets. Please set GOOGLE_API_KEY.\")\n",
    "genai.configure(api_key=api_key)\n",
    "\n",
    "def invoke_gemini_multimodal(prompt, matched_items):\n",
    "    \"\"\"\n",
    "    Use Gemini 1.5 Flash for multimodal RAG.\n",
    "    Accepts a prompt and a list of matched_items with type: 'text', 'table', or 'image'.\n",
    "    \"\"\"\n",
    "\n",
    "    # Prepare content for Gemini\n",
    "    gemini_content = []\n",
    "\n",
    "    # Add the retrieved content (text or image)\n",
    "    for item in matched_items:\n",
    "        if item['type'] in ['text', 'table']:\n",
    "            gemini_content.append(item['text'])\n",
    "        elif item['type'] == 'image':\n",
    "            image_data = item['image']  # bytes\n",
    "            image = Image.open(io.BytesIO(image_data))\n",
    "            gemini_content.append(image)\n",
    "\n",
    "    # Append the user query\n",
    "    gemini_content.append(prompt)\n",
    "\n",
    "    # Create multimodal model instance\n",
    "    model = genai.GenerativeModel(\"gemini-1.5-flash\")\n",
    "\n",
    "    # Generate response\n",
    "    response = model.generate_content(gemini_content, generation_config={\n",
    "        \"temperature\": 0.7,\n",
    "        \"top_p\": 0.95,\n",
    "        \"max_output_tokens\": 512,\n",
    "    })\n",
    "\n",
    "    return response.text\n"
   ]
  },
  {
   "attachments": {},
   "cell_type": "markdown",
   "metadata": {
    "id": "nrB9aqPUyRfw"
   },
   "source": [
    "### Test The RAG Pipeline"
   ]
  },
  {
   "cell_type": "code",
   "execution_count": 24,
   "metadata": {
    "id": "VfHXWthpyRfw"
   },
   "outputs": [],
   "source": [
    "# User Query\n",
    "query = \"How arthritis and elbow joint pain is related to tuberculosis?\"\n",
    "\n",
    "# Generate embeddings for the query using CLIP (text input)\n",
    "query_embedding = get_text_embedding(query)  # This returns shape (1, 512)\n",
    "\n",
    "# Ensure it's in the correct format for FAISS (float32 and reshaped)\n",
    "query_embedding_np = np.array(query_embedding, dtype=np.float32).reshape(1, -1)\n",
    "\n",
    "# Search for the nearest neighbors in the vector database\n",
    "distances, result = index.search(query_embedding_np, k=5)\n"
   ]
  },
  {
   "cell_type": "code",
   "execution_count": 25,
   "metadata": {
    "colab": {
     "base_uri": "https://localhost:8080/"
    },
    "id": "NfA4r99EyRfw",
    "outputId": "13d4a40c-2417-451f-9abe-3cacb0c658c6"
   },
   "outputs": [
    {
     "data": {
      "text/plain": [
       "array([42, 54, 14, 10, 73])"
      ]
     },
     "execution_count": 25,
     "metadata": {},
     "output_type": "execute_result"
    }
   ],
   "source": [
    "# Check the result (matched chunks)\n",
    "result.flatten()"
   ]
  },
  {
   "cell_type": "code",
   "execution_count": 26,
   "metadata": {
    "colab": {
     "base_uri": "https://localhost:8080/",
     "height": 81
    },
    "id": "lZPN1GaFyRfw",
    "outputId": "be8767ed-add3-40b0-8036-405b5a1e82b3"
   },
   "outputs": [
    {
     "data": {
      "text/markdown": [
       "This case report describes a patient with tuberculosis (TB) affecting the elbow joint, causing arthritis and elbow pain.  The connection is that the TB infection spread to the elbow joint, resulting in inflammation (synovitis, as shown in the MRI, Fig 4), and subsequent pain and limited range of motion.  The osteolysis (bone loss) suspected in the initial x-ray (Fig 1) is further evidence of the destructive nature of the infection in the joint.\n"
      ],
      "text/plain": [
       "<IPython.core.display.Markdown object>"
      ]
     },
     "execution_count": 26,
     "metadata": {},
     "output_type": "execute_result"
    }
   ],
   "source": [
    "# Retrieve the matched items\n",
    "matched_items = [{k: v for k, v in items[index].items() if k != 'embedding'} for index in result.flatten()]\n",
    "\n",
    "# Generate RAG response with Amazon Nova\n",
    "response = invoke_gemini_multimodal(query, matched_items)\n",
    "\n",
    "display.Markdown(response)"
   ]
  }
 ],
 "metadata": {
  "accelerator": "GPU",
  "colab": {
   "gpuType": "T4",
   "provenance": []
  },
  "kernelspec": {
   "display_name": "Python 3",
   "language": "python",
   "name": "python3"
  },
  "language_info": {
   "codemirror_mode": {
    "name": "ipython",
    "version": 3
   },
   "file_extension": ".py",
   "mimetype": "text/x-python",
   "name": "python",
   "nbconvert_exporter": "python",
   "pygments_lexer": "ipython3",
   "version": "3.13.1 (main, Dec  3 2024, 17:59:52) [Clang 16.0.0 (clang-1600.0.26.4)]"
  },
  "vscode": {
   "interpreter": {
    "hash": "b0fa6594d8f4cbf19f97940f81e996739fb7646882a419484c72d19e05852a7e"
   }
  },
  "widgets": {
   "application/vnd.jupyter.widget-state+json": {
    "state": {},
    "version_major": 2,
    "version_minor": 0
   }
  }
 },
 "nbformat": 4,
 "nbformat_minor": 0
}
